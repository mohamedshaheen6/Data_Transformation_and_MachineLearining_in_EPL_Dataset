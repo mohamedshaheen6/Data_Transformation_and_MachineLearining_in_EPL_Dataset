{
 "cells": [
  {
   "cell_type": "code",
   "execution_count": 1,
   "id": "4652ca9b",
   "metadata": {},
   "outputs": [],
   "source": [
    "import pandas as pd\n",
    "import matplotlib.pyplot as plt\n",
    "import numpy as np"
   ]
  },
  {
   "cell_type": "code",
   "execution_count": 2,
   "id": "e90591d3",
   "metadata": {},
   "outputs": [
    {
     "data": {
      "text/html": [
       "<div>\n",
       "<style scoped>\n",
       "    .dataframe tbody tr th:only-of-type {\n",
       "        vertical-align: middle;\n",
       "    }\n",
       "\n",
       "    .dataframe tbody tr th {\n",
       "        vertical-align: top;\n",
       "    }\n",
       "\n",
       "    .dataframe thead th {\n",
       "        text-align: right;\n",
       "    }\n",
       "</style>\n",
       "<table border=\"1\" class=\"dataframe\">\n",
       "  <thead>\n",
       "    <tr style=\"text-align: right;\">\n",
       "      <th></th>\n",
       "      <th>Season_End_Year</th>\n",
       "      <th>Wk</th>\n",
       "      <th>Date</th>\n",
       "      <th>Home</th>\n",
       "      <th>HomeGoals</th>\n",
       "      <th>AwayGoals</th>\n",
       "      <th>Away</th>\n",
       "      <th>FTR</th>\n",
       "    </tr>\n",
       "  </thead>\n",
       "  <tbody>\n",
       "    <tr>\n",
       "      <th>0</th>\n",
       "      <td>1993</td>\n",
       "      <td>1</td>\n",
       "      <td>1992-08-15</td>\n",
       "      <td>Coventry City</td>\n",
       "      <td>2</td>\n",
       "      <td>1</td>\n",
       "      <td>Middlesbrough</td>\n",
       "      <td>H</td>\n",
       "    </tr>\n",
       "    <tr>\n",
       "      <th>1</th>\n",
       "      <td>1993</td>\n",
       "      <td>1</td>\n",
       "      <td>1992-08-15</td>\n",
       "      <td>Leeds United</td>\n",
       "      <td>2</td>\n",
       "      <td>1</td>\n",
       "      <td>Wimbledon</td>\n",
       "      <td>H</td>\n",
       "    </tr>\n",
       "    <tr>\n",
       "      <th>2</th>\n",
       "      <td>1993</td>\n",
       "      <td>1</td>\n",
       "      <td>1992-08-15</td>\n",
       "      <td>Sheffield Utd</td>\n",
       "      <td>2</td>\n",
       "      <td>1</td>\n",
       "      <td>Manchester Utd</td>\n",
       "      <td>H</td>\n",
       "    </tr>\n",
       "    <tr>\n",
       "      <th>3</th>\n",
       "      <td>1993</td>\n",
       "      <td>1</td>\n",
       "      <td>1992-08-15</td>\n",
       "      <td>Crystal Palace</td>\n",
       "      <td>3</td>\n",
       "      <td>3</td>\n",
       "      <td>Blackburn</td>\n",
       "      <td>D</td>\n",
       "    </tr>\n",
       "    <tr>\n",
       "      <th>4</th>\n",
       "      <td>1993</td>\n",
       "      <td>1</td>\n",
       "      <td>1992-08-15</td>\n",
       "      <td>Arsenal</td>\n",
       "      <td>2</td>\n",
       "      <td>4</td>\n",
       "      <td>Norwich City</td>\n",
       "      <td>A</td>\n",
       "    </tr>\n",
       "    <tr>\n",
       "      <th>...</th>\n",
       "      <td>...</td>\n",
       "      <td>...</td>\n",
       "      <td>...</td>\n",
       "      <td>...</td>\n",
       "      <td>...</td>\n",
       "      <td>...</td>\n",
       "      <td>...</td>\n",
       "      <td>...</td>\n",
       "    </tr>\n",
       "    <tr>\n",
       "      <th>11641</th>\n",
       "      <td>2022</td>\n",
       "      <td>9</td>\n",
       "      <td>2021-10-23</td>\n",
       "      <td>Leeds United</td>\n",
       "      <td>1</td>\n",
       "      <td>1</td>\n",
       "      <td>Wolves</td>\n",
       "      <td>D</td>\n",
       "    </tr>\n",
       "    <tr>\n",
       "      <th>11642</th>\n",
       "      <td>2022</td>\n",
       "      <td>9</td>\n",
       "      <td>2021-10-23</td>\n",
       "      <td>Brighton</td>\n",
       "      <td>1</td>\n",
       "      <td>4</td>\n",
       "      <td>Manchester City</td>\n",
       "      <td>A</td>\n",
       "    </tr>\n",
       "    <tr>\n",
       "      <th>11643</th>\n",
       "      <td>2022</td>\n",
       "      <td>9</td>\n",
       "      <td>2021-10-24</td>\n",
       "      <td>West Ham</td>\n",
       "      <td>1</td>\n",
       "      <td>0</td>\n",
       "      <td>Tottenham</td>\n",
       "      <td>H</td>\n",
       "    </tr>\n",
       "    <tr>\n",
       "      <th>11644</th>\n",
       "      <td>2022</td>\n",
       "      <td>9</td>\n",
       "      <td>2021-10-24</td>\n",
       "      <td>Brentford</td>\n",
       "      <td>1</td>\n",
       "      <td>2</td>\n",
       "      <td>Leicester City</td>\n",
       "      <td>A</td>\n",
       "    </tr>\n",
       "    <tr>\n",
       "      <th>11645</th>\n",
       "      <td>2022</td>\n",
       "      <td>9</td>\n",
       "      <td>2021-10-24</td>\n",
       "      <td>Manchester Utd</td>\n",
       "      <td>0</td>\n",
       "      <td>5</td>\n",
       "      <td>Liverpool</td>\n",
       "      <td>A</td>\n",
       "    </tr>\n",
       "  </tbody>\n",
       "</table>\n",
       "<p>11646 rows × 8 columns</p>\n",
       "</div>"
      ],
      "text/plain": [
       "       Season_End_Year  Wk        Date            Home  HomeGoals  AwayGoals  \\\n",
       "0                 1993   1  1992-08-15   Coventry City          2          1   \n",
       "1                 1993   1  1992-08-15    Leeds United          2          1   \n",
       "2                 1993   1  1992-08-15   Sheffield Utd          2          1   \n",
       "3                 1993   1  1992-08-15  Crystal Palace          3          3   \n",
       "4                 1993   1  1992-08-15         Arsenal          2          4   \n",
       "...                ...  ..         ...             ...        ...        ...   \n",
       "11641             2022   9  2021-10-23    Leeds United          1          1   \n",
       "11642             2022   9  2021-10-23        Brighton          1          4   \n",
       "11643             2022   9  2021-10-24        West Ham          1          0   \n",
       "11644             2022   9  2021-10-24       Brentford          1          2   \n",
       "11645             2022   9  2021-10-24  Manchester Utd          0          5   \n",
       "\n",
       "                  Away FTR  \n",
       "0        Middlesbrough   H  \n",
       "1            Wimbledon   H  \n",
       "2       Manchester Utd   H  \n",
       "3            Blackburn   D  \n",
       "4         Norwich City   A  \n",
       "...                ...  ..  \n",
       "11641           Wolves   D  \n",
       "11642  Manchester City   A  \n",
       "11643        Tottenham   H  \n",
       "11644   Leicester City   A  \n",
       "11645        Liverpool   A  \n",
       "\n",
       "[11646 rows x 8 columns]"
      ]
     },
     "execution_count": 2,
     "metadata": {},
     "output_type": "execute_result"
    }
   ],
   "source": [
    "epl=pd.read_csv(\"C:/Users/ASUS/Desktop/DS SM/ML/Project/eplmatches.csv\")\n",
    "epl"
   ]
  },
  {
   "cell_type": "code",
   "execution_count": 3,
   "id": "7122f94a",
   "metadata": {},
   "outputs": [
    {
     "data": {
      "text/plain": [
       "Season_End_Year    0\n",
       "Wk                 0\n",
       "Date               0\n",
       "Home               0\n",
       "HomeGoals          0\n",
       "AwayGoals          0\n",
       "Away               0\n",
       "FTR                0\n",
       "dtype: int64"
      ]
     },
     "execution_count": 3,
     "metadata": {},
     "output_type": "execute_result"
    }
   ],
   "source": [
    "epl.isnull().sum()"
   ]
  },
  {
   "cell_type": "code",
   "execution_count": 4,
   "id": "bbc6e994",
   "metadata": {},
   "outputs": [
    {
     "data": {
      "text/plain": [
       "0        2\n",
       "1        2\n",
       "2        2\n",
       "3        3\n",
       "4        2\n",
       "        ..\n",
       "11641    1\n",
       "11642    1\n",
       "11643    1\n",
       "11644    1\n",
       "11645    0\n",
       "Name: HomeGoals, Length: 11646, dtype: int64"
      ]
     },
     "execution_count": 4,
     "metadata": {},
     "output_type": "execute_result"
    }
   ],
   "source": [
    "epl.HomeGoals"
   ]
  },
  {
   "cell_type": "code",
   "execution_count": 5,
   "id": "e857ccc3",
   "metadata": {},
   "outputs": [
    {
     "data": {
      "text/plain": [
       "1    3773\n",
       "2    2822\n",
       "0    2737\n",
       "3    1416\n",
       "4     593\n",
       "5     206\n",
       "6      62\n",
       "7      27\n",
       "8       7\n",
       "9       3\n",
       "Name: HomeGoals, dtype: int64"
      ]
     },
     "execution_count": 5,
     "metadata": {},
     "output_type": "execute_result"
    }
   ],
   "source": [
    "homegoals=epl['HomeGoals'].value_counts()\n",
    "homegoals"
   ]
  },
  {
   "cell_type": "code",
   "execution_count": 6,
   "id": "d5fb76f0",
   "metadata": {},
   "outputs": [
    {
     "data": {
      "text/plain": [
       "1    4040\n",
       "0    3982\n",
       "2    2217\n",
       "3     982\n",
       "4     309\n",
       "5      83\n",
       "6      28\n",
       "7       3\n",
       "8       1\n",
       "9       1\n",
       "Name: AwayGoals, dtype: int64"
      ]
     },
     "execution_count": 6,
     "metadata": {},
     "output_type": "execute_result"
    }
   ],
   "source": [
    "awaygoals=epl['AwayGoals'].value_counts()\n",
    "awaygoals"
   ]
  },
  {
   "cell_type": "code",
   "execution_count": 7,
   "id": "a56fe46f",
   "metadata": {},
   "outputs": [
    {
     "data": {
      "image/png": "[encoded data removed]",
      "text/plain": [
       "<Figure size 432x288 with 1 Axes>"
      ]
     },
     "metadata": {
      "needs_background": "light"
     },
     "output_type": "display_data"
    }
   ],
   "source": [
    "plt.plot(homegoals,color='green')\n",
    "plt.plot(awaygoals,color='red')\n",
    "plt.show()"
   ]
  },
  {
   "cell_type": "code",
   "execution_count": 8,
   "id": "48fa7e25",
   "metadata": {},
   "outputs": [
    {
     "data": {
      "text/plain": [
       "17711"
      ]
     },
     "execution_count": 8,
     "metadata": {},
     "output_type": "execute_result"
    }
   ],
   "source": [
    "epl['HomeGoals'].sum()"
   ]
  },
  {
   "cell_type": "code",
   "execution_count": 9,
   "id": "fa1efb2d",
   "metadata": {},
   "outputs": [
    {
     "data": {
      "text/plain": [
       "13277"
      ]
     },
     "execution_count": 9,
     "metadata": {},
     "output_type": "execute_result"
    }
   ],
   "source": [
    "epl['AwayGoals'].sum()"
   ]
  },
  {
   "cell_type": "code",
   "execution_count": 10,
   "id": "1391abed",
   "metadata": {},
   "outputs": [
    {
     "data": {
      "text/plain": [
       "H    5335\n",
       "A    3301\n",
       "D    3010\n",
       "Name: FTR, dtype: int64"
      ]
     },
     "execution_count": 10,
     "metadata": {},
     "output_type": "execute_result"
    }
   ],
   "source": [
    "totalwins=epl['FTR'].value_counts()\n",
    "totalwins"
   ]
  },
  {
   "cell_type": "code",
   "execution_count": 11,
   "id": "e54d13c5",
   "metadata": {},
   "outputs": [
    {
     "data": {
      "text/html": [
       "<div>\n",
       "<style scoped>\n",
       "    .dataframe tbody tr th:only-of-type {\n",
       "        vertical-align: middle;\n",
       "    }\n",
       "\n",
       "    .dataframe tbody tr th {\n",
       "        vertical-align: top;\n",
       "    }\n",
       "\n",
       "    .dataframe thead th {\n",
       "        text-align: right;\n",
       "    }\n",
       "</style>\n",
       "<table border=\"1\" class=\"dataframe\">\n",
       "  <thead>\n",
       "    <tr style=\"text-align: right;\">\n",
       "      <th></th>\n",
       "      <th>Season_End_Year</th>\n",
       "      <th>Wk</th>\n",
       "      <th>HomeGoals</th>\n",
       "      <th>AwayGoals</th>\n",
       "    </tr>\n",
       "  </thead>\n",
       "  <tbody>\n",
       "    <tr>\n",
       "      <th>Season_End_Year</th>\n",
       "      <td>1.000000</td>\n",
       "      <td>-0.032186</td>\n",
       "      <td>0.001854</td>\n",
       "      <td>0.046140</td>\n",
       "    </tr>\n",
       "    <tr>\n",
       "      <th>Wk</th>\n",
       "      <td>-0.032186</td>\n",
       "      <td>1.000000</td>\n",
       "      <td>0.019704</td>\n",
       "      <td>-0.005171</td>\n",
       "    </tr>\n",
       "    <tr>\n",
       "      <th>HomeGoals</th>\n",
       "      <td>0.001854</td>\n",
       "      <td>0.019704</td>\n",
       "      <td>1.000000</td>\n",
       "      <td>-0.050975</td>\n",
       "    </tr>\n",
       "    <tr>\n",
       "      <th>AwayGoals</th>\n",
       "      <td>0.046140</td>\n",
       "      <td>-0.005171</td>\n",
       "      <td>-0.050975</td>\n",
       "      <td>1.000000</td>\n",
       "    </tr>\n",
       "  </tbody>\n",
       "</table>\n",
       "</div>"
      ],
      "text/plain": [
       "                 Season_End_Year        Wk  HomeGoals  AwayGoals\n",
       "Season_End_Year         1.000000 -0.032186   0.001854   0.046140\n",
       "Wk                     -0.032186  1.000000   0.019704  -0.005171\n",
       "HomeGoals               0.001854  0.019704   1.000000  -0.050975\n",
       "AwayGoals               0.046140 -0.005171  -0.050975   1.000000"
      ]
     },
     "execution_count": 11,
     "metadata": {},
     "output_type": "execute_result"
    }
   ],
   "source": [
    "epl.corr()"
   ]
  },
  {
   "cell_type": "code",
   "execution_count": null,
   "id": "dad8d592",
   "metadata": {},
   "outputs": [],
   "source": []
  }
 ],
 "metadata": {
  "kernelspec": {
   "display_name": "Python 3 (ipykernel)",
   "language": "python",
   "name": "python3"
  },
  "language_info": {
   "codemirror_mode": {
    "name": "ipython",
    "version": 3
   },
   "file_extension": ".py",
   "mimetype": "text/x-python",
   "name": "python",
   "nbconvert_exporter": "python",
   "pygments_lexer": "ipython3",
   "version": "3.9.12"
  }
 },
 "nbformat": 4,
 "nbformat_minor": 5
}
